{
 "cells": [
  {
   "cell_type": "markdown",
   "metadata": {},
   "source": [
    "### ANVA\n",
    "\n",
    "|Fuente de Variación|    SC     |    GL          |   CM        | Modelo 1               | Modelo 2           |\n",
    "|:------------------|:---------:|:--------------:|:-----------:|-----------------------:|-----------------------:|\n",
    "| **Bloques**            | SCBloq    |   b-1         |CMBloq|$$\\sigma^2+\\frac{t}{b-1}\\sum_{j=1}^{b} \\beta_j^2 $$ | $$\\sigma^2+ t\\sigma_\\beta^2 $$           |\n",
    "| **Tratamientos**      | SCTrat     |   t-1         |CMTrat|$$\\sigma^2+\\frac{b}{t-1}\\sum_{i=1}^{t} \\tau_i^2 $$ |$$\\sigma^2+ b\\sigma_\\tau^2 $$                |\n",
    "| **Error**            | SCE         |   (b-1)(t-1)  | CME      |   $$\\sigma^2$$                     |   $$\\sigma^2$$           |\n",
    "| **Total**            | SCTotal     |   bt-1        |                     |                        |           |\n",
    "\n",
    "\n",
    "\n",
    "\n",
    "\n"
   ]
  },
  {
   "cell_type": "code",
   "execution_count": null,
   "metadata": {},
   "outputs": [],
   "source": []
  }
 ],
 "metadata": {
  "kernelspec": {
   "display_name": "Python 3",
   "language": "python",
   "name": "python3"
  },
  "language_info": {
   "codemirror_mode": {
    "name": "ipython",
    "version": 3
   },
   "file_extension": ".py",
   "mimetype": "text/x-python",
   "name": "python",
   "nbconvert_exporter": "python",
   "pygments_lexer": "ipython3",
   "version": "3.8.5"
  }
 },
 "nbformat": 4,
 "nbformat_minor": 4
}
